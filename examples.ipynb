{
 "cells": [
  {
   "cell_type": "code",
   "execution_count": null,
   "id": "2267f1a7",
   "metadata": {},
   "outputs": [],
   "source": [
    "import os\n",
    "from tqdm import tqdm\n",
    "import numpy as np\n",
    "import matplotlib.pyplot as plt"
   ]
  },
  {
   "cell_type": "markdown",
   "id": "82fb0e97",
   "metadata": {},
   "source": [
    "# PenSimEnv"
   ]
  },
  {
   "cell_type": "code",
   "execution_count": null,
   "id": "3ceb90ae",
   "metadata": {},
   "outputs": [],
   "source": [
    "from pensimpy.examples.recipe import Recipe, RecipeCombo\n",
    "from pensimpy.data.constants import FS, FOIL, FG, PRES, DISCHARGE, WATER, PAA\n",
    "from pensimpy.data.constants import FS_DEFAULT_PROFILE, FOIL_DEFAULT_PROFILE, FG_DEFAULT_PROFILE, \\\n",
    "    PRESS_DEFAULT_PROFILE, DISCHARGE_DEFAULT_PROFILE, WATER_DEFAULT_PROFILE, PAA_DEFAULT_PROFILE\n",
    "from smpl.envs.pensimenv import PenSimEnvGym, PeniControlData, NUM_STEPS"
   ]
  },
  {
   "cell_type": "code",
   "execution_count": null,
   "id": "bd968434",
   "metadata": {},
   "outputs": [],
   "source": [
    "# set up the default recipe\n",
    "recipe_dict = {FS: Recipe(FS_DEFAULT_PROFILE, FS),\n",
    "            FOIL: Recipe(FOIL_DEFAULT_PROFILE, FOIL),\n",
    "            FG: Recipe(FG_DEFAULT_PROFILE, FG),\n",
    "            PRES: Recipe(PRESS_DEFAULT_PROFILE, PRES),\n",
    "            DISCHARGE: Recipe(DISCHARGE_DEFAULT_PROFILE, DISCHARGE),\n",
    "            WATER: Recipe(WATER_DEFAULT_PROFILE, WATER),\n",
    "            PAA: Recipe(PAA_DEFAULT_PROFILE, PAA)}\n",
    "\n",
    "recipe_combo = RecipeCombo(recipe_dict=recipe_dict)\n",
    "# set up the environment\n",
    "normalize=False\n",
    "env = PenSimEnvGym(recipe_combo=recipe_combo, normalize=normalize)\n",
    "state = env.reset(normalize=normalize, random_seed_ref=6886)\n",
    "# load one batch of the sampled data\n",
    "load_just_a_file='smpl/datasets/pensimenv/random_batch_0.csv'\n",
    "dataset_obj = PeniControlData(load_just_a_file=load_just_a_file, normalize=normalize)\n",
    "if dataset_obj.file_list:\n",
    "    print('Penicillin_Control_Challenge data correctly initialized.')\n",
    "else:\n",
    "    raise ValueError(\"Penicillin_Control_Challenge data initialization failed.\")\n",
    "dataset = dataset_obj.get_dataset()\n",
    "\n",
    "total_reward = 0.0\n",
    "for step in range(NUM_STEPS):\n",
    "    state, reward, done, info = env.step(dataset['actions'][step].tolist())\n",
    "    total_reward += reward\n",
    "    if step%1000 == 0:\n",
    "        print(\"reward, total_reward:\",reward, total_reward)\n",
    "print(\"your total reward is (by default, should be around 3224):\", total_reward)"
   ]
  },
  {
   "cell_type": "markdown",
   "id": "059e7bc7",
   "metadata": {},
   "source": [
    "# BeerFMTEnv"
   ]
  },
  {
   "cell_type": "code",
   "execution_count": null,
   "id": "6bed9f85",
   "metadata": {},
   "outputs": [],
   "source": [
    "from smpl.envs.beerfmtenv import BeerFMTEnvGym, MAX_STEPS\n",
    "from smpl.envs.utils import normalize_spaces\n",
    "# initialize the default policy\n",
    "profile_cons = [13] * 200 # constant actions\n",
    "profile_industrial = [11 + 1 / 8 * i for i in range(25)] \\\n",
    "                          + [14] * 95 \\\n",
    "                          + [14 + 2 / 25 * i for i in range(25)] \\\n",
    "                          + [16] * 25 + [16 - 8 / 15 * i for i in range(14)] + [9]*16 # a simple policy"
   ]
  },
  {
   "cell_type": "code",
   "execution_count": null,
   "id": "b87ae88a",
   "metadata": {},
   "outputs": [],
   "source": [
    "profile_inuse = profile_cons\n",
    "env = BeerFMTEnvGym(normalize=False)\n",
    "state = env.reset(initial_state=[0, 2, 2, 130, 0, 0, 0, 0])\n",
    "total_reward = 0.0\n",
    "for step in tqdm(range(MAX_STEPS)):\n",
    "    action = np.array([profile_inuse[step]], dtype=np.float32)\n",
    "    state, reward, done, info = env.step(action)\n",
    "    total_reward += reward\n",
    "    if done:\n",
    "        break\n",
    "res_cons = info[\"res_forplot\"]\n",
    "print(\"your end at step\", step, \"and total reward is:\", total_reward)\n",
    "#your end at step 188 and total reward is: 12.0"
   ]
  },
  {
   "cell_type": "code",
   "execution_count": null,
   "id": "66c68d13",
   "metadata": {},
   "outputs": [],
   "source": [
    "profile_inuse = profile_industrial\n",
    "env = BeerFMTEnvGym(normalize=False)\n",
    "state = env.reset(initial_state=[0, 2, 2, 130, 0, 0, 0, 0])\n",
    "total_reward = 0.0\n",
    "for step in tqdm(range(MAX_STEPS)):\n",
    "    action = np.array([profile_inuse[step]], dtype=np.float32)\n",
    "    state, reward, done, info = env.step(action)\n",
    "    total_reward += reward\n",
    "    if done:\n",
    "        break\n",
    "res_industrial = info[\"res_forplot\"]\n",
    "print(\"your end at step\", step, \"and total reward is:\", total_reward)\n",
    "#your end at step 145 and total reward is: 55.0"
   ]
  },
  {
   "cell_type": "code",
   "execution_count": null,
   "id": "4966b7eb",
   "metadata": {},
   "outputs": [],
   "source": [
    "# plots\n",
    "plt.figure(dpi=1200)\n",
    "plt.subplot(2, 2, 1)\n",
    "plt.plot(profile_industrial, label='Industrial', color='blue')\n",
    "plt.plot(profile_cons, label='Isothermal', color='blue', linestyle='dashed')\n",
    "plt.autoscale(enable=True, axis='both', tight=True)\n",
    "plt.ylim((0, 18))\n",
    "plt.xlabel('Time [h]')\n",
    "plt.ylabel('Temperature [\\u00B0C]')\n",
    "plt.title(\"Fermentation Profile\")\n",
    "plt.legend()\n",
    "\n",
    "plt.subplot(2, 2, 2)\n",
    "plt.plot(res_industrial[:, 3], label='Sugar', color='m')\n",
    "plt.plot(res_cons[:, 3], color='m', linestyle='dashed')\n",
    "plt.plot(res_industrial[:, 4], label='Ethanol', color='orange')\n",
    "plt.plot(res_cons[:, 4], color='orange', linestyle='dashed')\n",
    "plt.autoscale(enable=True, axis='both', tight=True)\n",
    "plt.ylim((0, 140))\n",
    "plt.xlabel('Time [h]')\n",
    "plt.ylabel('Concentration [g/L]')\n",
    "plt.title(\"Sugar and Ethanol Production\")\n",
    "plt.legend()\n",
    "\n",
    "plt.subplot(2, 2, 3)\n",
    "plt.plot(res_industrial[:, 0], label='Active', color='green')\n",
    "plt.plot(res_cons[:, 0], color='green', linestyle='dashed')\n",
    "plt.plot(res_industrial[:, 1], label='Lag', color='c')\n",
    "plt.plot(res_cons[:, 1], color='c', linestyle='dashed')\n",
    "plt.plot(res_industrial[:, 2], label='Dead', color='red')\n",
    "plt.plot(res_cons[:, 2], color='red', linestyle='dashed')\n",
    "plt.plot(res_industrial[:, 0] + res_industrial[:, 1] + res_industrial[:, 2], label='Total', color='black')\n",
    "plt.plot(res_cons[:, 0] + res_cons[:, 1] + res_cons[:, 2], color='black', linestyle='dashed')\n",
    "plt.autoscale(enable=True, axis='both', tight=True)\n",
    "plt.ylim((0, 9))\n",
    "plt.xlabel('Time [h]')\n",
    "plt.ylabel('Concentration [g/L]')\n",
    "plt.title(\"Biomass Evolution\")\n",
    "plt.legend()\n",
    "\n",
    "plt.subplot(2, 2, 4)\n",
    "plt.plot(res_industrial[:, 5], label='Diacetyl', color='darkgoldenrod')\n",
    "plt.plot(res_cons[:, 5], color='darkgoldenrod', linestyle='dashed')\n",
    "plt.plot(res_industrial[:, 6], label='Ethyl Acelate', color='grey')\n",
    "plt.plot(res_cons[:, 6], color='grey', linestyle='dashed')\n",
    "plt.autoscale(enable=True, axis='both', tight=True)\n",
    "plt.ylim((0, 1.6))\n",
    "plt.xlabel('Time [h]')\n",
    "plt.ylabel('Concentration [ppm]')\n",
    "plt.title(\"By-Product Production\")\n",
    "plt.legend()\n",
    "\n",
    "\n",
    "plt.tight_layout()\n",
    "plt.show()"
   ]
  },
  {
   "cell_type": "markdown",
   "id": "737dd8d0",
   "metadata": {},
   "source": [
    "# AtropineEnv"
   ]
  },
  {
   "cell_type": "code",
   "execution_count": 2,
   "id": "4025d63b",
   "metadata": {},
   "outputs": [
    {
     "ename": "OSError",
     "evalue": "Failed to interpret file <_io.BytesIO object at 0x7f5dd2dfef90> as a pickle",
     "output_type": "error",
     "traceback": [
      "\u001b[0;31m---------------------------------------------------------------------------\u001b[0m",
      "\u001b[0;31mUnpicklingError\u001b[0m                           Traceback (most recent call last)",
      "\u001b[0;32m~/anaconda3/envs/rst/lib/python3.9/site-packages/numpy/lib/npyio.py\u001b[0m in \u001b[0;36mload\u001b[0;34m(file, mmap_mode, allow_pickle, fix_imports, encoding)\u001b[0m\n\u001b[1;32m    447\u001b[0m             \u001b[0;32mtry\u001b[0m\u001b[0;34m:\u001b[0m\u001b[0;34m\u001b[0m\u001b[0;34m\u001b[0m\u001b[0m\n\u001b[0;32m--> 448\u001b[0;31m                 \u001b[0;32mreturn\u001b[0m \u001b[0mpickle\u001b[0m\u001b[0;34m.\u001b[0m\u001b[0mload\u001b[0m\u001b[0;34m(\u001b[0m\u001b[0mfid\u001b[0m\u001b[0;34m,\u001b[0m \u001b[0;34m**\u001b[0m\u001b[0mpickle_kwargs\u001b[0m\u001b[0;34m)\u001b[0m\u001b[0;34m\u001b[0m\u001b[0;34m\u001b[0m\u001b[0m\n\u001b[0m\u001b[1;32m    449\u001b[0m             \u001b[0;32mexcept\u001b[0m \u001b[0mException\u001b[0m \u001b[0;32mas\u001b[0m \u001b[0me\u001b[0m\u001b[0;34m:\u001b[0m\u001b[0;34m\u001b[0m\u001b[0;34m\u001b[0m\u001b[0m\n",
      "\u001b[0;31mUnpicklingError\u001b[0m: invalid load key, '\\x0a'.",
      "\nThe above exception was the direct cause of the following exception:\n",
      "\u001b[0;31mOSError\u001b[0m                                   Traceback (most recent call last)",
      "\u001b[0;32m/tmp/ipykernel_20089/3665335786.py\u001b[0m in \u001b[0;36m<module>\u001b[0;34m\u001b[0m\n\u001b[1;32m      1\u001b[0m \u001b[0;32mimport\u001b[0m \u001b[0mnumpy\u001b[0m \u001b[0;32mas\u001b[0m \u001b[0mnp\u001b[0m\u001b[0;34m\u001b[0m\u001b[0;34m\u001b[0m\u001b[0m\n\u001b[1;32m      2\u001b[0m \u001b[0;32mfrom\u001b[0m \u001b[0msmpl\u001b[0m\u001b[0;34m.\u001b[0m\u001b[0menvs\u001b[0m\u001b[0;34m.\u001b[0m\u001b[0matropineenv\u001b[0m \u001b[0;32mimport\u001b[0m \u001b[0mAtropineEnvGym\u001b[0m\u001b[0;34m\u001b[0m\u001b[0;34m\u001b[0m\u001b[0m\n\u001b[0;32m----> 3\u001b[0;31m \u001b[0menv\u001b[0m \u001b[0;34m=\u001b[0m \u001b[0mAtropineEnvGym\u001b[0m\u001b[0;34m(\u001b[0m\u001b[0mnormalize\u001b[0m\u001b[0;34m=\u001b[0m\u001b[0;32mFalse\u001b[0m\u001b[0;34m)\u001b[0m\u001b[0;34m\u001b[0m\u001b[0;34m\u001b[0m\u001b[0m\n\u001b[0m\u001b[1;32m      4\u001b[0m \u001b[0minit_state\u001b[0m \u001b[0;34m=\u001b[0m \u001b[0menv\u001b[0m\u001b[0;34m.\u001b[0m\u001b[0msample_initial_state\u001b[0m\u001b[0;34m(\u001b[0m\u001b[0mno_sample\u001b[0m\u001b[0;34m=\u001b[0m\u001b[0;32mTrue\u001b[0m\u001b[0;34m)\u001b[0m\u001b[0;34m\u001b[0m\u001b[0;34m\u001b[0m\u001b[0m\n\u001b[1;32m      5\u001b[0m \u001b[0menv\u001b[0m\u001b[0;34m.\u001b[0m\u001b[0mreset\u001b[0m\u001b[0;34m(\u001b[0m\u001b[0minitial_state\u001b[0m\u001b[0;34m=\u001b[0m\u001b[0minit_state\u001b[0m\u001b[0;34m)\u001b[0m\u001b[0;34m\u001b[0m\u001b[0;34m\u001b[0m\u001b[0m\n",
      "\u001b[0;32m~/GitRepos/smpl/smpl/envs/atropineenv.py\u001b[0m in \u001b[0;36m__init__\u001b[0;34m(self, dense_reward, normalize, debug_mode, action_dim, reward_function, done_calculator, observation_name, action_name, np_dtype, max_steps, error_reward, x0_loc, z0_loc, model_loc, uss_subtracted, reward_on_ess_subtracted, reward_on_steady, reward_on_absolute_efactor, reward_on_actions_penalty, reward_on_reject_actions, reward_scaler, relaxed_max_min_actions, observation_include_t, observation_include_action, observation_include_uss, observation_include_ess, observation_include_e, observation_include_kf, observation_include_z, observation_include_x)\u001b[0m\n\u001b[1;32m    177\u001b[0m         \u001b[0mresponse\u001b[0m \u001b[0;34m=\u001b[0m \u001b[0mrequests\u001b[0m\u001b[0;34m.\u001b[0m\u001b[0mget\u001b[0m\u001b[0;34m(\u001b[0m\u001b[0mmodel_loc\u001b[0m\u001b[0;34m)\u001b[0m\u001b[0;34m\u001b[0m\u001b[0;34m\u001b[0m\u001b[0m\n\u001b[1;32m    178\u001b[0m         \u001b[0mresponse\u001b[0m\u001b[0;34m.\u001b[0m\u001b[0mraise_for_status\u001b[0m\u001b[0;34m(\u001b[0m\u001b[0;34m)\u001b[0m\u001b[0;34m\u001b[0m\u001b[0;34m\u001b[0m\u001b[0m\n\u001b[0;32m--> 179\u001b[0;31m         \u001b[0mself\u001b[0m\u001b[0;34m.\u001b[0m\u001b[0mmodel_preconfig\u001b[0m \u001b[0;34m=\u001b[0m \u001b[0mnp\u001b[0m\u001b[0;34m.\u001b[0m\u001b[0mload\u001b[0m\u001b[0;34m(\u001b[0m\u001b[0mio\u001b[0m\u001b[0;34m.\u001b[0m\u001b[0mBytesIO\u001b[0m\u001b[0;34m(\u001b[0m\u001b[0mresponse\u001b[0m\u001b[0;34m.\u001b[0m\u001b[0mcontent\u001b[0m\u001b[0;34m)\u001b[0m\u001b[0;34m,\u001b[0m \u001b[0mallow_pickle\u001b[0m\u001b[0;34m=\u001b[0m\u001b[0;32mTrue\u001b[0m\u001b[0;34m)\u001b[0m\u001b[0;34m\u001b[0m\u001b[0;34m\u001b[0m\u001b[0m\n\u001b[0m\u001b[1;32m    180\u001b[0m \u001b[0;34m\u001b[0m\u001b[0m\n\u001b[1;32m    181\u001b[0m         \u001b[0;31m# for a fixed batch.\u001b[0m\u001b[0;34m\u001b[0m\u001b[0;34m\u001b[0m\u001b[0m\n",
      "\u001b[0;32m~/anaconda3/envs/rst/lib/python3.9/site-packages/numpy/lib/npyio.py\u001b[0m in \u001b[0;36mload\u001b[0;34m(file, mmap_mode, allow_pickle, fix_imports, encoding)\u001b[0m\n\u001b[1;32m    448\u001b[0m                 \u001b[0;32mreturn\u001b[0m \u001b[0mpickle\u001b[0m\u001b[0;34m.\u001b[0m\u001b[0mload\u001b[0m\u001b[0;34m(\u001b[0m\u001b[0mfid\u001b[0m\u001b[0;34m,\u001b[0m \u001b[0;34m**\u001b[0m\u001b[0mpickle_kwargs\u001b[0m\u001b[0;34m)\u001b[0m\u001b[0;34m\u001b[0m\u001b[0;34m\u001b[0m\u001b[0m\n\u001b[1;32m    449\u001b[0m             \u001b[0;32mexcept\u001b[0m \u001b[0mException\u001b[0m \u001b[0;32mas\u001b[0m \u001b[0me\u001b[0m\u001b[0;34m:\u001b[0m\u001b[0;34m\u001b[0m\u001b[0;34m\u001b[0m\u001b[0m\n\u001b[0;32m--> 450\u001b[0;31m                 raise IOError(\n\u001b[0m\u001b[1;32m    451\u001b[0m                     \"Failed to interpret file %s as a pickle\" % repr(file)) from e\n\u001b[1;32m    452\u001b[0m \u001b[0;34m\u001b[0m\u001b[0m\n",
      "\u001b[0;31mOSError\u001b[0m: Failed to interpret file <_io.BytesIO object at 0x7f5dd2dfef90> as a pickle"
     ]
    }
   ],
   "source": [
    "import numpy as np\n",
    "from smpl.envs.atropineenv import AtropineEnvGym\n",
    "env = AtropineEnvGym(normalize=False)\n",
    "init_state = env.sample_initial_state(no_sample=True)\n",
    "env.reset(initial_state=init_state)\n",
    "print(\"init_state.shape\", init_state.shape)\n",
    "state, reward, done, info = env.step(np.array([-1.03856889e-06, -8.12998852e-05, -1.66432480e-05,  1.81665393e-05]))\n",
    "print(\"state.shape\", init_state.shape)\n",
    "print(\"reward\", reward) # should be -1.7763568394002505e-15"
   ]
  },
  {
   "cell_type": "code",
   "execution_count": null,
   "id": "c6b47199",
   "metadata": {},
   "outputs": [],
   "source": [
    "# or, if we want to run a full loop to see the plot:\n",
    "env = AtropineEnvGym(reward_on_steady=False, reward_on_absolute_efactor=False, observation_include_t=True, observation_include_action=True, observation_include_uss=True, observation_include_ess=True, observation_include_e=True, observation_include_kf=True, observation_include_z=True, observation_include_x=True)\n",
    "init_state = env.sample_initial_state(no_sample=True)\n",
    "init_state = env.reset(initial_state=init_state)\n",
    "for i in range(60):\n",
    "    state, reward, done, info = env.step(np.ones(4)*0.5)\n",
    "env.plot()"
   ]
  },
  {
   "cell_type": "code",
   "execution_count": null,
   "id": "b99583de",
   "metadata": {},
   "outputs": [],
   "source": [
    "# or, use the provided MPC controller:\n",
    "import numpy as np\n",
    "from smpl.envs.atropineenv import AtropineEnvGym\n",
    "from smpl.envs.atropineenv import AtropineMPC\n",
    "mpc = AtropineMPC()\n",
    "env = AtropineEnvGym(normalize=False)\n",
    "init_state = env.sample_initial_state(no_sample=True)\n",
    "init_state = env.reset(initial_state=init_state)\n",
    "state = init_state\n",
    "for i in range(60):\n",
    "    action = mpc.predict(state)\n",
    "    state, reward, done, info = env.step(action)\n",
    "env.plot()"
   ]
  },
  {
   "cell_type": "markdown",
   "id": "3e39873e",
   "metadata": {},
   "source": [
    "# ReactorEnv"
   ]
  },
  {
   "cell_type": "code",
   "execution_count": 1,
   "id": "03bc5439",
   "metadata": {},
   "outputs": [
    {
     "name": "stdout",
     "output_type": "stream",
     "text": [
      "state [ 0.8778252  51.34660727  0.65899998]\n"
     ]
    }
   ],
   "source": [
    "from smpl.envs.reactorenv import ReactorEnvGym\n",
    "env = ReactorEnvGym(normalize=False)\n",
    "init_state = env.reset(initial_state=[0.8778252, 51.34660837, 0.659]) # init with steady state (setpoint)\n",
    "state, reward, done, info = env.step([26.85, 0.1]) # feed in the steady action (setpoint action)\n",
    "print(\"state\", state) # should be [0.8778252, 51.34660837, 0.659], we still get the same steady state"
   ]
  },
  {
   "cell_type": "markdown",
   "id": "bc7bbe62",
   "metadata": {},
   "source": [
    "# MAbEnv"
   ]
  },
  {
   "cell_type": "code",
   "execution_count": null,
   "id": "b3311af8",
   "metadata": {},
   "outputs": [],
   "source": [
    "from smpl.envs.mabenv import MAbEnvGym, xscale, uscale\n",
    "import numpy as np\n",
    "env = MAbEnvGym(normalize=False, standard_reward_style='setpoint')\n",
    "xss = env.xss / xscale\n",
    "uss = env.uss / uscale\n",
    "env.reset(xss)\n",
    "observation, reward, done, info = env.step(uss, normalize=False)\n",
    "assert (np.square((observation - xss)[:19])).sum() < 1e-10 # it is steady, so given steady action at steady state, we should still get steady state\n",
    "env = MAbEnvGym(normalize=False, standard_reward_style='productivity')\n",
    "env.reset(xss)\n",
    "observation, reward, done, info = env.step(uss, normalize=False)\n",
    "print(reward) # should be around 1349.4986"
   ]
  }
 ],
 "metadata": {
  "interpreter": {
   "hash": "49fe37d96d55d08248b80c22b4f61fdea799ba7368830df064266ea8ea4a0d06"
  },
  "kernelspec": {
   "display_name": "Python 3 (ipykernel)",
   "language": "python",
   "name": "python3"
  },
  "language_info": {
   "codemirror_mode": {
    "name": "ipython",
    "version": 3
   },
   "file_extension": ".py",
   "mimetype": "text/x-python",
   "name": "python",
   "nbconvert_exporter": "python",
   "pygments_lexer": "ipython3",
   "version": "3.9.7"
  }
 },
 "nbformat": 4,
 "nbformat_minor": 5
}
